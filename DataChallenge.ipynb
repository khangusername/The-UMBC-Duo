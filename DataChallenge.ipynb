{
 "cells": [
  {
   "cell_type": "markdown",
   "id": "2ce0d09c",
   "metadata": {
    "slideshow": {
     "slide_type": "-"
    }
   },
   "source": [
    "# UMD IC Team IC22034\n",
    "# Khang Nguyen and Elvin Vanathayan\n",
    "# Mentor: Akshay"
   ]
  },
  {
   "cell_type": "markdown",
   "id": "60f8c3ff",
   "metadata": {},
   "source": [
    "# Category: Cybersecurity\n",
    "# Organization: BigBear.ai\n",
    "# Project Name: ISCXIDS2012 Cybersecurity Dataset"
   ]
  },
  {
   "cell_type": "markdown",
   "id": "6bd25444",
   "metadata": {},
   "source": [
    "# Dataset Description:\n",
    "- Malicious hackers and automated malware attacks are one of the biggest threats facing cybersecurity experts today. To help encourage novel solutions to these problems, researchers at the Canadian Institute for Cybersecurity have assembled a number of datasets cybersecurity researchers and practitioners can use to evaluate their malware detection methodologies. The dataset for this challenge represents a subset of their 2012 Intrusion Detection Evaluation Dataset. Here, the UNB researchers employed real cyber attack and malware scenarios, along with background network traffic simulations to create an evaluation dataset. This dataset contains multiple possible challenges, ranging from dataset exploration, to machine learning, to novel visualizations.\n",
    "\n",
    "# Challenge Description:\n",
    "- Challenge 1:\n",
    "    Help improve cybersecurity for networks. Create a machine learning model to predict whether network traffic is associated       with normal (Tag=”Normal”) or malicious (Tag=”Attack”) activities.\n",
    "    \n",
    "- Challenge 2:\n",
    "    Predict internet traffic. Create a machine learning model to predict what type of traffic each row represents, using the       column “appName”. There are a huge variety of features that could be explored for this type of model, including analysis of     the actual packet payloads themselves.\n",
    "\n",
    "- Challenge 3:\n",
    "    Understanding a network. Do exploratory data analysis to understand activity on this network, and create informative           visualizations to convey this information. There are a variety of options here: join the dataset to open source information     about what different ports are used for; join the dataset to open source geolocation information and create a visualization     in Google Earth; show IP activity over time, before, during, and after attack scenarios are carried out."
   ]
  },
  {
   "cell_type": "code",
   "execution_count": 1,
   "id": "2884db56",
   "metadata": {},
   "outputs": [],
   "source": [
    "import sklearn\n",
    "from sklearn.preprocessing import LabelEncoder\n",
    "from sklearn.preprocessing import OneHotEncoder\n",
    "from sklearn.model_selection import train_test_split\n",
    "from sklearn.model_selection import GridSearchCV\n",
    "from sklearn.ensemble import RandomForestClassifier\n",
    "from sklearn.tree import DecisionTreeClassifier\n",
    "from sklearn.linear_model import LinearRegression\n",
    "from sklearn import metrics\n",
    "from sklearn.metrics import confusion_matrix\n",
    "from sklearn.metrics import accuracy_score\n",
    "from sklearn.metrics import recall_score, precision_score\n",
    "from sklearn.metrics import classification_report\n",
    "from sklearn.metrics import f1_score\n",
    "import pandas as pd\n",
    "import numpy as np\n",
    "import matplotlib as mpl\n",
    "import matplotlib.pyplot as plt"
   ]
  },
  {
   "cell_type": "code",
   "execution_count": 2,
   "id": "b7fce2c1",
   "metadata": {},
   "outputs": [],
   "source": [
    "# We start by importing the dataset \n",
    "data = pd.read_csv(\"iscxIDS2012_subset_no_payload.csv\")"
   ]
  },
  {
   "cell_type": "code",
   "execution_count": 3,
   "id": "a56fba10",
   "metadata": {},
   "outputs": [
    {
     "name": "stdout",
     "output_type": "stream",
     "text": [
      "(137820, 17)\n"
     ]
    },
    {
     "data": {
      "text/html": [
       "<div>\n",
       "<style scoped>\n",
       "    .dataframe tbody tr th:only-of-type {\n",
       "        vertical-align: middle;\n",
       "    }\n",
       "\n",
       "    .dataframe tbody tr th {\n",
       "        vertical-align: top;\n",
       "    }\n",
       "\n",
       "    .dataframe thead th {\n",
       "        text-align: right;\n",
       "    }\n",
       "</style>\n",
       "<table border=\"1\" class=\"dataframe\">\n",
       "  <thead>\n",
       "    <tr style=\"text-align: right;\">\n",
       "      <th></th>\n",
       "      <th>Tag</th>\n",
       "      <th>appName</th>\n",
       "      <th>destination</th>\n",
       "      <th>destinationPort</th>\n",
       "      <th>destinationTCPFlagsDescription</th>\n",
       "      <th>direction</th>\n",
       "      <th>protocolName</th>\n",
       "      <th>source</th>\n",
       "      <th>sourceFile</th>\n",
       "      <th>sourcePort</th>\n",
       "      <th>sourceTCPFlagsDescription</th>\n",
       "      <th>startDateTime</th>\n",
       "      <th>stopDateTime</th>\n",
       "      <th>totalDestinationBytes</th>\n",
       "      <th>totalDestinationPackets</th>\n",
       "      <th>totalSourceBytes</th>\n",
       "      <th>totalSourcePackets</th>\n",
       "    </tr>\n",
       "  </thead>\n",
       "  <tbody>\n",
       "    <tr>\n",
       "      <th>0</th>\n",
       "      <td>Attack</td>\n",
       "      <td>Unknown_TCP</td>\n",
       "      <td>131.202.243.84</td>\n",
       "      <td>5555</td>\n",
       "      <td>-</td>\n",
       "      <td>L2R</td>\n",
       "      <td>tcp_ip</td>\n",
       "      <td>192.168.2.112</td>\n",
       "      <td>TestbedMonJun14Flows.xml</td>\n",
       "      <td>3870</td>\n",
       "      <td>S</td>\n",
       "      <td>2010-06-13T23:59:17</td>\n",
       "      <td>2010-06-14T00:00:50</td>\n",
       "      <td>0</td>\n",
       "      <td>0</td>\n",
       "      <td>990</td>\n",
       "      <td>15</td>\n",
       "    </tr>\n",
       "    <tr>\n",
       "      <th>1</th>\n",
       "      <td>Attack</td>\n",
       "      <td>Unknown_TCP</td>\n",
       "      <td>131.202.243.84</td>\n",
       "      <td>5555</td>\n",
       "      <td>-</td>\n",
       "      <td>L2R</td>\n",
       "      <td>tcp_ip</td>\n",
       "      <td>192.168.2.112</td>\n",
       "      <td>TestbedMonJun14Flows.xml</td>\n",
       "      <td>3934</td>\n",
       "      <td>S</td>\n",
       "      <td>2010-06-14T00:59:17</td>\n",
       "      <td>2010-06-14T01:00:50</td>\n",
       "      <td>0</td>\n",
       "      <td>0</td>\n",
       "      <td>990</td>\n",
       "      <td>15</td>\n",
       "    </tr>\n",
       "    <tr>\n",
       "      <th>2</th>\n",
       "      <td>Attack</td>\n",
       "      <td>Unknown_TCP</td>\n",
       "      <td>131.202.243.84</td>\n",
       "      <td>5555</td>\n",
       "      <td>-</td>\n",
       "      <td>L2R</td>\n",
       "      <td>tcp_ip</td>\n",
       "      <td>192.168.2.112</td>\n",
       "      <td>TestbedMonJun14Flows.xml</td>\n",
       "      <td>3967</td>\n",
       "      <td>S</td>\n",
       "      <td>2010-06-14T01:59:17</td>\n",
       "      <td>2010-06-14T02:00:50</td>\n",
       "      <td>0</td>\n",
       "      <td>0</td>\n",
       "      <td>990</td>\n",
       "      <td>15</td>\n",
       "    </tr>\n",
       "    <tr>\n",
       "      <th>3</th>\n",
       "      <td>Attack</td>\n",
       "      <td>Unknown_TCP</td>\n",
       "      <td>131.202.243.84</td>\n",
       "      <td>5555</td>\n",
       "      <td>-</td>\n",
       "      <td>L2R</td>\n",
       "      <td>tcp_ip</td>\n",
       "      <td>192.168.2.112</td>\n",
       "      <td>TestbedMonJun14Flows.xml</td>\n",
       "      <td>4000</td>\n",
       "      <td>S</td>\n",
       "      <td>2010-06-14T02:59:17</td>\n",
       "      <td>2010-06-14T03:00:50</td>\n",
       "      <td>0</td>\n",
       "      <td>0</td>\n",
       "      <td>990</td>\n",
       "      <td>15</td>\n",
       "    </tr>\n",
       "    <tr>\n",
       "      <th>4</th>\n",
       "      <td>Attack</td>\n",
       "      <td>SSH</td>\n",
       "      <td>192.168.5.122</td>\n",
       "      <td>22</td>\n",
       "      <td>S,A</td>\n",
       "      <td>R2L</td>\n",
       "      <td>tcp_ip</td>\n",
       "      <td>218.108.130.167</td>\n",
       "      <td>TestbedMonJun14Flows.xml</td>\n",
       "      <td>51693</td>\n",
       "      <td>S,R</td>\n",
       "      <td>2010-06-14T03:42:58</td>\n",
       "      <td>2010-06-14T03:42:59</td>\n",
       "      <td>66</td>\n",
       "      <td>1</td>\n",
       "      <td>130</td>\n",
       "      <td>2</td>\n",
       "    </tr>\n",
       "  </tbody>\n",
       "</table>\n",
       "</div>"
      ],
      "text/plain": [
       "      Tag      appName     destination  destinationPort  \\\n",
       "0  Attack  Unknown_TCP  131.202.243.84             5555   \n",
       "1  Attack  Unknown_TCP  131.202.243.84             5555   \n",
       "2  Attack  Unknown_TCP  131.202.243.84             5555   \n",
       "3  Attack  Unknown_TCP  131.202.243.84             5555   \n",
       "4  Attack          SSH   192.168.5.122               22   \n",
       "\n",
       "  destinationTCPFlagsDescription direction protocolName           source  \\\n",
       "0                              -       L2R       tcp_ip    192.168.2.112   \n",
       "1                              -       L2R       tcp_ip    192.168.2.112   \n",
       "2                              -       L2R       tcp_ip    192.168.2.112   \n",
       "3                              -       L2R       tcp_ip    192.168.2.112   \n",
       "4                            S,A       R2L       tcp_ip  218.108.130.167   \n",
       "\n",
       "                 sourceFile  sourcePort sourceTCPFlagsDescription  \\\n",
       "0  TestbedMonJun14Flows.xml        3870                         S   \n",
       "1  TestbedMonJun14Flows.xml        3934                         S   \n",
       "2  TestbedMonJun14Flows.xml        3967                         S   \n",
       "3  TestbedMonJun14Flows.xml        4000                         S   \n",
       "4  TestbedMonJun14Flows.xml       51693                       S,R   \n",
       "\n",
       "         startDateTime         stopDateTime  totalDestinationBytes  \\\n",
       "0  2010-06-13T23:59:17  2010-06-14T00:00:50                      0   \n",
       "1  2010-06-14T00:59:17  2010-06-14T01:00:50                      0   \n",
       "2  2010-06-14T01:59:17  2010-06-14T02:00:50                      0   \n",
       "3  2010-06-14T02:59:17  2010-06-14T03:00:50                      0   \n",
       "4  2010-06-14T03:42:58  2010-06-14T03:42:59                     66   \n",
       "\n",
       "   totalDestinationPackets  totalSourceBytes  totalSourcePackets  \n",
       "0                        0               990                  15  \n",
       "1                        0               990                  15  \n",
       "2                        0               990                  15  \n",
       "3                        0               990                  15  \n",
       "4                        1               130                   2  "
      ]
     },
     "execution_count": 3,
     "metadata": {},
     "output_type": "execute_result"
    }
   ],
   "source": [
    "print(data.shape)\n",
    "data.head()"
   ]
  },
  {
   "cell_type": "code",
   "execution_count": 4,
   "id": "7bc32503",
   "metadata": {},
   "outputs": [
    {
     "data": {
      "text/plain": [
       "Tag                               0\n",
       "appName                           0\n",
       "destination                       0\n",
       "destinationPort                   0\n",
       "destinationTCPFlagsDescription    0\n",
       "direction                         0\n",
       "protocolName                      0\n",
       "source                            0\n",
       "sourceFile                        0\n",
       "sourcePort                        0\n",
       "sourceTCPFlagsDescription         0\n",
       "startDateTime                     0\n",
       "stopDateTime                      0\n",
       "totalDestinationBytes             0\n",
       "totalDestinationPackets           0\n",
       "totalSourceBytes                  0\n",
       "totalSourcePackets                0\n",
       "dtype: int64"
      ]
     },
     "execution_count": 4,
     "metadata": {},
     "output_type": "execute_result"
    }
   ],
   "source": [
    "data.isna().sum()"
   ]
  },
  {
   "cell_type": "code",
   "execution_count": 5,
   "id": "fdfad3b7",
   "metadata": {},
   "outputs": [
    {
     "name": "stdout",
     "output_type": "stream",
     "text": [
      "['Attack' 'Normal']\n",
      "['Unknown_TCP' 'SSH' 'SecureWeb' 'ICMP' 'HTTPWeb' 'AOL-ICQ' 'Oracle'\n",
      " 'MiscApplication' 'MSMQ' 'Authentication' 'IRC' 'Filenet' 'Groove'\n",
      " 'Hotline' 'Real' 'Misc-DB' 'Timbuktu' 'Google' 'OpenNap' 'Yahoo'\n",
      " 'Misc-Ports' 'ManagementServices' 'Anet' 'XWindows' 'LDAP' 'Flowgen'\n",
      " 'Squid' 'SNMP-Ports' 'MiscApp' 'NETBEUI' 'Misc-Mail-Port' 'Tacacs' 'MDQS'\n",
      " 'SMS' 'Hosts2-Ns' 'TimeServer' 'MS-SQL' 'BitTorrent' 'NortonAntiVirus'\n",
      " 'MSN' 'rexec' 'Network-Config-Ports' 'MicrosoftMediaServer'\n",
      " 'StreamingAudio' 'Citrix' 'SMTP' 'IPSec' 'NNTPNews' 'Telnet' 'H.323'\n",
      " 'PostgreSQL' 'rlogin' 'SSL-Shell' 'PCAnywhere' 'Webmin' 'FTP'\n",
      " 'MSTerminalServices' 'IMAP' 'dsp3270' 'Gnutella' 'Printer' 'Intellex'\n",
      " 'Ingres' 'rsh' 'POP' 'PPTP' 'WindowsFileSharing' 'SunRPC' 'RPC' 'RTSP'\n",
      " 'NetBIOS-IP' 'VNC' 'DNS' 'XFER' 'POP-port' 'Common-P2P-Port' 'BGP' 'NFS'\n",
      " 'HTTPImageTransfer' 'Unknown_UDP' 'WebMediaDocuments' 'WebMediaVideo'\n",
      " 'NortonGhost' 'WebFileTransfer' 'GuptaSQLBase' 'Web-Port' 'IGMP'\n",
      " 'Common-Ports' 'DNS-Port' 'giop-ssl' 'iChat' 'WebMediaAudio' 'MSN-Zone'\n",
      " 'SSDP' 'OpenWindows']\n",
      "['131.202.243.84' '192.168.5.122' '192.168.3.5' ... '78.165.227.250'\n",
      " '68.74.221.91' '74.208.123.175']\n",
      "[ 5555    22     0 ... 23246 31463 26353]\n",
      "['-' 'S,A' 'F,S,P,A' 'R,A' 'S,R,A' 'S,P,A' 'F,A' 'A' 'F,R,P,A' 'F,P,A'\n",
      " 'P,A' 'F,S,R,P,A' 'R' 'F,S,R,A' 'F,S,A' 'F,R,A' 'S,R,P,A' 'S'\n",
      " 'F,S,P,A,Illegal8' 'R,P,A' 'S,R,A,Illegal8' 'R,A,Illegal7,Illegal8']\n",
      "['L2R' 'R2L' 'L2L' 'R2R']\n",
      "['tcp_ip' 'icmp_ip' 'udp_ip' 'ip' 'igmp']\n",
      "['192.168.2.112' '218.108.130.167' '192.168.2.113' '200.46.125.39'\n",
      " '192.168.3.115' '192.168.3.117' '192.168.2.106' '192.168.1.101'\n",
      " '217.140.88.36' '200.153.221.172' '201.38.0.130' '38.99.187.52'\n",
      " '124.82.235.245' '81.134.118.76' '212.60.192.30' '83.232.240.154'\n",
      " '187.62.24.79' '200.75.72.185' '88.79.127.155' '190.220.227.179'\n",
      " '212.77.187.249' '210.51.55.244' '202.205.112.107' '80.66.211.179'\n",
      " '67.23.167.37' '217.76.44.243' '200.102.77.173' '192.168.5.122'\n",
      " '192.168.2.110' '192.168.4.118' '192.168.1.103' '192.168.4.120'\n",
      " '192.168.1.105' '192.168.2.109' '131.202.243.90' '76.118.81.154'\n",
      " '192.168.5.123' '0.0.0.0' '192.168.4.119' '192.168.4.121' '192.168.1.104'\n",
      " '192.168.2.111' '192.168.1.102' '142.167.88.44' '58.211.72.43'\n",
      " '141.64.8.215' '192.168.2.107' '192.168.3.116' '192.168.2.108'\n",
      " '192.168.3.114' '192.168.5.124' '131.202.240.218' '82.200.168.34'\n",
      " '122.144.111.104' '78.111.176.14' '72.77.17.40' '80.249.229.223'\n",
      " '94.101.56.84' '89.109.5.162' '87.226.240.5' '188.113.30.25'\n",
      " '89.252.4.20' '131.202.240.209' '193.165.147.174' '68.107.16.55'\n",
      " '24.154.204.57' '68.153.241.17' '24.224.217.232' '112.78.198.40'\n",
      " '189.220.46.164' '188.18.77.39' '174.39.221.14' '95.31.247.70'\n",
      " '79.152.101.175' '110.178.195.223' '68.169.146.25' '189.105.90.6'\n",
      " '201.25.36.58' '64.12.78.142' '91.203.26.253' '89.252.20.135'\n",
      " '88.27.157.72' '62.182.82.2' '210.172.144.10' '60.222.230.180'\n",
      " '79.20.68.98' '80.229.36.215' '156.17.61.13' '41.131.108.252'\n",
      " '93.86.232.207' '178.94.67.187' '78.166.114.130' '77.106.200.130'\n",
      " '173.230.156.78' '201.26.101.233' '202.160.8.142' '78.141.122.21'\n",
      " '78.227.76.14' '216.115.108.141' '112.135.223.212' '201.38.18.132'\n",
      " '193.88.64.250' '217.174.229.221' '93.65.15.116' '93.190.203.1'\n",
      " '79.140.66.42' '194.150.204.14' '189.127.146.70' '184.73.96.124'\n",
      " '86.101.219.116' '75.36.19.222' '78.26.20.97' '59.95.24.154'\n",
      " '80.93.113.70' '189.105.176.113' '178.66.46.22' '92.140.174.146'\n",
      " '213.133.177.11' '213.156.68.6' '200.107.247.117' '218.75.145.73'\n",
      " '201.204.3.198' '110.139.210.85' '219.94.168.46' '90.151.112.126'\n",
      " '192.168.1.2' '109.184.252.39' '93.186.192.85' '173.50.120.4'\n",
      " '189.58.64.17' '212.113.114.16' '109.92.108.167' '72.90.78.5'\n",
      " '91.99.197.85' '195.16.49.90' '119.153.175.222' '89.254.204.16'\n",
      " '131.202.243.91' '85.127.16.236' '24.126.15.168' '87.255.70.152'\n",
      " '142.166.115.13' '82.141.191.246' '70.58.166.197' '201.254.120.162'\n",
      " '121.229.35.90' '212.233.253.22' '82.85.234.145' '92.112.20.26'\n",
      " '212.220.13.2' '87.229.84.25' '195.138.193.242' '173.3.177.204'\n",
      " '84.2.88.72' '203.177.74.140' '193.33.232.2' '196.217.207.149'\n",
      " '200.203.169.129' '94.254.42.22' '41.205.4.247' '80.238.64.28'\n",
      " '195.34.94.1' '89.175.180.14' '200.157.247.32' '80.234.86.23'\n",
      " '94.10.87.228' '194.242.103.132' '193.28.156.13' '222.136.151.221'\n",
      " '187.58.152.198' '95.31.7.182' '190.160.2.50' '122.161.5.12'\n",
      " '84.53.217.114' '68.225.87.169' '203.122.13.14' '87.221.240.194'\n",
      " '91.137.140.17' '92.113.93.121' '200.106.123.23' '84.22.140.178'\n",
      " '109.188.28.155' '212.33.255.210' '189.31.28.220' '122.162.41.94'\n",
      " '95.189.38.203' '207.231.227.38' '88.162.196.183' '77.94.189.204'\n",
      " '217.131.154.170' '84.42.206.38' '89.184.139.88' '189.46.149.141'\n",
      " '115.184.197.205' '63.111.123.26' '70.71.174.217' '186.57.12.206'\n",
      " '188.216.14.18' '77.222.133.210' '62.183.87.182' '189.107.14.78'\n",
      " '188.36.39.255' '64.12.206.39' '89.236.29.128' '92.17.244.213'\n",
      " '70.187.225.15' '89.74.174.155' '188.195.158.244' '90.188.245.18'\n",
      " '83.133.121.61' '94.20.26.122' '109.86.182.125' '92.255.251.58'\n",
      " '112.203.195.81' '98.198.64.111' '91.38.253.165' '78.85.16.70'\n",
      " '89.185.85.36' '95.223.152.23' '97.112.134.194' '222.165.223.2'\n",
      " '209.206.224.34' '83.50.193.240' '220.100.22.112' '91.203.67.249'\n",
      " '201.78.178.41' '79.148.103.246' '189.105.255.51' '67.195.23.154'\n",
      " '187.58.105.131' '124.45.156.117' '85.24.189.5' '12.162.183.80'\n",
      " '83.199.9.125' '195.218.244.79' '80.92.96.107' '41.218.234.45'\n",
      " '71.199.178.10' '41.72.116.10' '75.22.97.68' '189.74.236.82'\n",
      " '89.222.215.26' '200.217.64.69' '212.20.68.134' '82.71.212.10'\n",
      " '187.45.81.194' '116.197.129.194' '95.143.213.154' '83.212.85.134'\n",
      " '87.220.91.17' '78.114.223.40' '84.42.58.104' '77.234.24.240'\n",
      " '94.221.132.23' '88.130.109.71' '194.126.183.66' '95.79.7.16'\n",
      " '72.188.39.170' '195.88.23.251' '82.68.164.70' '62.182.81.233'\n",
      " '96.60.255.195' '92.230.189.136' '195.222.127.19' '62.182.81.230'\n",
      " '189.27.118.57' '61.147.67.206' '98.137.26.79' '109.205.114.103'\n",
      " '210.188.200.243']\n",
      "['TestbedMonJun14Flows.xml' 'TestbedWedJun16-3Flows.xml'\n",
      " 'TestbedWedJun16-2Flows.xml' 'TestbedTueJun15-1Flows.xml'\n",
      " 'TestbedSatJun12Flows.xml' 'TestbedTueJun15-3Flows.xml'\n",
      " 'TestbedWedJun16-1Flows.xml' 'TestbedThuJun17-2Flows.xml'\n",
      " 'TestbedSunJun13Flows.xml' 'TestbedThuJun17-3Flows.xml'\n",
      " 'TestbedTueJun15-2Flows.xml' 'TestbedThuJun17-1Flows.xml']\n",
      "[ 3870  3934  3967 ... 54182 55630 36475]\n",
      "['S' 'S,R' 'F,S,R,P,A' 'F,S,P,A' '-' 'A' 'S,R,P,A' 'S,A' 'F,S,A' 'S,P,A'\n",
      " 'F,A' 'R' 'F,S,R,A' 'F,P,A' 'P,A' 'F,R,A' 'F,P,U' 'S,R,Illegal7,Illegal8'\n",
      " 'R,A' 'F,S,R,P,U' 'F,S,P,U' 'S,R,A' 'F,R,P,A' 'R,P,A']\n",
      "['2010-06-13T23:59:17' '2010-06-14T00:59:17' '2010-06-14T01:59:17' ...\n",
      " '2010-06-16T19:05:03' '2010-06-17T12:11:29' '2010-06-14T12:22:51']\n",
      "['2010-06-14T00:00:50' '2010-06-14T01:00:50' '2010-06-14T02:00:50' ...\n",
      " '2010-06-14T15:06:32' '2010-06-15T09:20:41' '2010-06-14T12:22:51']\n",
      "[    0    66  2651 ... 10391 11929 32941]\n",
      "[    0     1    14 22150    13     2     4     5     3     6     9  7465\n",
      "  4545    12    10    24    18    16     8   908    22    30    20    26\n",
      "    28  2650  4546    36    34    32  1220    33  7182    40    54    60\n",
      "    82    42    96    48  2507    15    17    19    21  1508   174   210\n",
      "   172   154   176     7   120   146    58   166   124   152    68    62\n",
      "   212   156   170   158   178   214   148   218   216    52    90   208\n",
      "    88   150   420    98    50   160   180   162   211   168   346   308\n",
      "   304   282   142   132    84   144   220   204   182   175   200   206\n",
      "   194   190   184   192   198   196   188   202   186   348   108   164\n",
      "    72   104   118    78   138   134   140   318   128   336   116   292\n",
      "   312   320   340   326   290   294   310   324   338   306   332   334\n",
      "   296   330   314   246   352   276    11    27 43476    74    73    29\n",
      "   139    31    39    81    83   183   203    45    86    23    37    25\n",
      "    94 13577 30590    76    44    66    70    64    43    35    41    71\n",
      "    91   275   135   115   189    61   654    38   151   474    77    59\n",
      "   372    53   111   886   286    56   213   101   376   303   541   381\n",
      "    95    79   207   487    63   447   416   163    46    57    55    47\n",
      "  1556  4508   167   197    80  5645   225   880   555    49   257   327\n",
      "   145   103   249    75   133    99    51   102   419 20514   278   191\n",
      "   193   205  1424    85  1451    65   222    67   195    89   234   181\n",
      "   165    93    87   230  1306   378   131   515   106   107   271   125\n",
      "   117   126   329   316   130   284   173   224   749   267   110    69\n",
      "   121   588   370   127   311   746   136   219   228   497   100   609\n",
      "   258   335   508   337   122   540   114   444   129   939  5137   238\n",
      "   112   297   171   113   341   235   575   566   137  2156   215   255\n",
      "   617   471  3378   526   402   432  1321   805   291   625   247   159\n",
      "   532   244   398   105   281    97   229   701   359  1690   893   407\n",
      "   647    92   153   263  2598   295   233   680   245  4124  2117   123\n",
      "   243   391   242   498   287  5301   366   143   380   839  1113   155\n",
      "   442   344   536   307   141   351   671   441   217  2034   494   857\n",
      "   179   726  1389   569   763   482  2115   709   256  3267   457  3424\n",
      "   325  1193   382   301   518   253   829   322   530   456   480   507\n",
      "  1008   147   119 29077   576  3369   149   547   733   274   665   109\n",
      "   455   451  9737   559   331   718   747   663   347   642   675  1999\n",
      "   283  1256  4145  3621  4032   523  1084  5510   241   277   387   509\n",
      "   169   483  2029   403   802   678   787   741   858   354  2120   410\n",
      "   535  1695 20730   187   252   393  1607  2636   602  3321  1052   926\n",
      "   343   227   157   684   863  2182   731   390   668   485   711   473\n",
      "   481   209   237  1139   462   427   265  2136   989  1608   792   226\n",
      "   738   177   270  1308   448   504   383  1276   693  1298   404   445\n",
      "   395   405   578   491   221   185   293  1478  1555  1358  3866   349\n",
      "   688   259  3242   273   553   437   161   537   664   418   438  3548\n",
      "   522   201   501   428  1698   821   734   240   764   254  1057   379\n",
      "   313  1190   817   399   980   434  1294   328 11398   666   371  1157\n",
      "  1140   608   374   285   269  5620   199   323   493   512  3388  3578\n",
      "   302   636   433  2383   422   299  1856   912  1166   268  1348   362\n",
      "   563   461   360  3165   223   743   828  2089  1550   250  1950   542\n",
      "   614   236   496   317   546   467   385   610  3293   500   651  1262\n",
      "  2806  1160   691  1397  1127   579   446   847  2108 28619   232  1541\n",
      "   353   231  3218  1616  4770   476 14613  8572   345   356  1388   594\n",
      "  1393   443   262   849   315   260   737   460   722   321   841   429\n",
      "   358 12270   377  3020   426  1319   406  1840   565   662  1352   384\n",
      "   998  3704   519   613   713  1047  1175   431  1686  2172   692   239\n",
      "  3273   534  1471  3251   514   490   425  4229   573   499   703   681\n",
      "  1148   567  3208   272   710   525  3366   672   342   339  2162   361\n",
      "  8581  3312  3575  2906   633   264   319   745   261   396  2014   280\n",
      "   298  6794   758   862  3948   248   612   677   971   577   687   982\n",
      "   590   484   593  2562  2243   388   750   305   309  1288  1196  3883\n",
      "   492   486  2874   386  1312   589  1862   394   413   872  1575   702\n",
      "   986   513   615   765   531  1270   634   905   279   529   401  1350\n",
      "   624  1939   538   744   367  1181   556   774   412  2101   791   533\n",
      "  7191  1278 18549   392   417   860  3288   333   369   760   365  1049\n",
      "   891  6016  1359  3275  1216   449   368  1092  4968  1812   568  5702\n",
      "   300   506  1073   639  3368   751  1183   266  1226  1383  4008   983\n",
      "  3248   574   453  5063  2937   409   756   469   373   674   808   892\n",
      "  1669   587  3395]\n",
      "[ 990  130 1304 ... 3003 2331  224]\n",
      "[   15     2    12 28324     4     3   808     1    13   418   428     5\n",
      "     6     9    14  2276   336    25  5277  2289     8     7   234    11\n",
      "    10    18  1299   724    16    23  2548    21    26    17    20    24\n",
      "   429   659  1172    19  4900  2288    36    37    46    63    28    29\n",
      "    72    30    32    22   901  2386    40    41    31   420   662  1231\n",
      "    78   106    77    64    98    80   103    69    85    53    35    84\n",
      "    99   109    92    79    94    89   105    93   100   107   110    91\n",
      "    95   108    97    65   111    66    76   101    87    96    81   104\n",
      "    59   102   112    88    62    90    75    73    61   113    34   114\n",
      "    86    60   206   115    43    67    82    58    83    74   155   128\n",
      "   124    56    68    70    54   116    50    71   156   212    57    38\n",
      "    55    51   126   130   147   127   137    52   149   140   123   134\n",
      "   152   151   145   148   117   143   136   132   131   144 46453  1495\n",
      "   900   892  1814    44     0    45    47   792    48   446   254  1168\n",
      "   631    49  8040   414  1473  1075   443 26952    33   227   226    42\n",
      "   121   364   162   237   789   830   611    27   218   462    39   159\n",
      "   183   285   277   334   264   258  2211  2260  3038   526   289   142\n",
      "   252   166   257 11381   125   184   896   774   141   138   150   943\n",
      "   139   321   205   160   222   411   194   158   365   244   171   430\n",
      "   163   343   169   333   248   320   249   544  3430   164   157   173\n",
      "   193   383   372   219  1589   119   335  1779   294   290   242   745\n",
      "   174   329   198   165   317   178   172   407   199   932   498   215\n",
      "   362   185  1413   189   177   393  2169  1129   250   196   390  2758\n",
      "   239   322   269   120   586   587   299   176   192   306   181   247\n",
      "   283   349   133  1026   319   495   439   763   403   377  2094   481\n",
      "   220  1861  1828   197   612   310   592   168   276   238   260   259\n",
      "   577   245 14620   312  1780   585   342  4967   195   265   373   431\n",
      "   200   479  1137   202   118   635  1839  2035   267   207   645  2959\n",
      "   154   167   217   328   303  1273   282   629   409   502   211   401\n",
      "   451  2108   228   316   918 10586   223   852  1367   353   225  1776\n",
      "   628   552   182   284   356   190   625  1227   382   229   331   436\n",
      "   209   326  1301   565   882   543   286   693   135   764   204   410\n",
      "   904   280   224   266   345   459   129   293   928   722  1993   216\n",
      "  1766   347   346   210  2120   146   308   191   396   898   214   515\n",
      "   397   623   253   179   318   456   261   672   427  3730   475   685\n",
      "   873   332   374   213  2999   278   435   203   256  1981   405   305\n",
      "  1308  1281   541   235   153   626   874  1740   251   394   378   554\n",
      "  1154   790   208  1050   339   368  1777   425   667   161   389  1557\n",
      "   325   725   488   122   954   296   677   375   487 15297   243   799\n",
      "  2161   891  2389   416  7703 11523  1042   363   441   793   271   708\n",
      "   187   231   615   480   388  6125  1817   186   690   452   288   980\n",
      "   350   876   366   302   540  2064   392   691   838   569   869  1212\n",
      "   341  1890   279   801  2043   330  2203   201   599   327   591   386\n",
      "   188   255 28971  2052   352  1841   344   463   170  1203   230  7680\n",
      "  1807  1894  1598   348  1024  3666  2123   370   527   485   355   297\n",
      "   572   360   301   453  1406  1306   241   482   180   718  2207   323\n",
      "  1501   426   760   391  1208  1072   483   548   398   338   311   639\n",
      "   379   454   275   232   263   175   705  1238  1834   699  1156  5896\n",
      "   684  9909   357   528  1808   236   385   307   221   460   408  3126\n",
      "   337   731  1783   640  2778  1057   273  1105  3036   450   603  1763\n",
      "   642   859  2074   593  1791  2770  1893   300   354   457   558   274\n",
      "   867  1827]\n"
     ]
    }
   ],
   "source": [
    "for col in data:\n",
    "    print(data[col].unique())"
   ]
  },
  {
   "cell_type": "code",
   "execution_count": 12,
   "id": "5b69c9aa",
   "metadata": {},
   "outputs": [
    {
     "data": {
      "text/plain": [
       "Tag                               object\n",
       "appName                           object\n",
       "destination                       object\n",
       "destinationPort                    int64\n",
       "destinationTCPFlagsDescription    object\n",
       "direction                         object\n",
       "protocolName                      object\n",
       "source                            object\n",
       "sourceFile                        object\n",
       "sourcePort                         int64\n",
       "sourceTCPFlagsDescription         object\n",
       "startDateTime                     object\n",
       "stopDateTime                      object\n",
       "totalDestinationBytes              int64\n",
       "totalDestinationPackets            int64\n",
       "totalSourceBytes                   int64\n",
       "totalSourcePackets                 int64\n",
       "dtype: object"
      ]
     },
     "execution_count": 12,
     "metadata": {},
     "output_type": "execute_result"
    }
   ],
   "source": [
    "data.dtypes"
   ]
  },
  {
   "cell_type": "code",
   "execution_count": 15,
   "id": "3c7919d8",
   "metadata": {},
   "outputs": [],
   "source": [
    "transformed_data = data.drop(['destination', 'source', 'stopDateTime', 'startDateTime' ], axis=1).copy()"
   ]
  },
  {
   "cell_type": "code",
   "execution_count": 17,
   "id": "30580a95",
   "metadata": {},
   "outputs": [
    {
     "data": {
      "text/html": [
       "<div>\n",
       "<style scoped>\n",
       "    .dataframe tbody tr th:only-of-type {\n",
       "        vertical-align: middle;\n",
       "    }\n",
       "\n",
       "    .dataframe tbody tr th {\n",
       "        vertical-align: top;\n",
       "    }\n",
       "\n",
       "    .dataframe thead th {\n",
       "        text-align: right;\n",
       "    }\n",
       "</style>\n",
       "<table border=\"1\" class=\"dataframe\">\n",
       "  <thead>\n",
       "    <tr style=\"text-align: right;\">\n",
       "      <th></th>\n",
       "      <th>Tag</th>\n",
       "      <th>appName</th>\n",
       "      <th>destinationPort</th>\n",
       "      <th>destinationTCPFlagsDescription</th>\n",
       "      <th>direction</th>\n",
       "      <th>protocolName</th>\n",
       "      <th>sourceFile</th>\n",
       "      <th>sourcePort</th>\n",
       "      <th>sourceTCPFlagsDescription</th>\n",
       "      <th>totalDestinationBytes</th>\n",
       "      <th>totalDestinationPackets</th>\n",
       "      <th>totalSourceBytes</th>\n",
       "      <th>totalSourcePackets</th>\n",
       "    </tr>\n",
       "  </thead>\n",
       "  <tbody>\n",
       "    <tr>\n",
       "      <th>0</th>\n",
       "      <td>0</td>\n",
       "      <td>76</td>\n",
       "      <td>5555</td>\n",
       "      <td>0</td>\n",
       "      <td>1</td>\n",
       "      <td>3</td>\n",
       "      <td>0</td>\n",
       "      <td>3870</td>\n",
       "      <td>17</td>\n",
       "      <td>0</td>\n",
       "      <td>0</td>\n",
       "      <td>990</td>\n",
       "      <td>15</td>\n",
       "    </tr>\n",
       "    <tr>\n",
       "      <th>1</th>\n",
       "      <td>0</td>\n",
       "      <td>76</td>\n",
       "      <td>5555</td>\n",
       "      <td>0</td>\n",
       "      <td>1</td>\n",
       "      <td>3</td>\n",
       "      <td>0</td>\n",
       "      <td>3934</td>\n",
       "      <td>17</td>\n",
       "      <td>0</td>\n",
       "      <td>0</td>\n",
       "      <td>990</td>\n",
       "      <td>15</td>\n",
       "    </tr>\n",
       "    <tr>\n",
       "      <th>2</th>\n",
       "      <td>0</td>\n",
       "      <td>76</td>\n",
       "      <td>5555</td>\n",
       "      <td>0</td>\n",
       "      <td>1</td>\n",
       "      <td>3</td>\n",
       "      <td>0</td>\n",
       "      <td>3967</td>\n",
       "      <td>17</td>\n",
       "      <td>0</td>\n",
       "      <td>0</td>\n",
       "      <td>990</td>\n",
       "      <td>15</td>\n",
       "    </tr>\n",
       "    <tr>\n",
       "      <th>3</th>\n",
       "      <td>0</td>\n",
       "      <td>76</td>\n",
       "      <td>5555</td>\n",
       "      <td>0</td>\n",
       "      <td>1</td>\n",
       "      <td>3</td>\n",
       "      <td>0</td>\n",
       "      <td>4000</td>\n",
       "      <td>17</td>\n",
       "      <td>0</td>\n",
       "      <td>0</td>\n",
       "      <td>990</td>\n",
       "      <td>15</td>\n",
       "    </tr>\n",
       "    <tr>\n",
       "      <th>4</th>\n",
       "      <td>0</td>\n",
       "      <td>66</td>\n",
       "      <td>22</td>\n",
       "      <td>17</td>\n",
       "      <td>2</td>\n",
       "      <td>3</td>\n",
       "      <td>0</td>\n",
       "      <td>51693</td>\n",
       "      <td>20</td>\n",
       "      <td>66</td>\n",
       "      <td>1</td>\n",
       "      <td>130</td>\n",
       "      <td>2</td>\n",
       "    </tr>\n",
       "    <tr>\n",
       "      <th>5</th>\n",
       "      <td>0</td>\n",
       "      <td>66</td>\n",
       "      <td>22</td>\n",
       "      <td>7</td>\n",
       "      <td>2</td>\n",
       "      <td>3</td>\n",
       "      <td>0</td>\n",
       "      <td>54053</td>\n",
       "      <td>11</td>\n",
       "      <td>2651</td>\n",
       "      <td>14</td>\n",
       "      <td>1304</td>\n",
       "      <td>12</td>\n",
       "    </tr>\n",
       "    <tr>\n",
       "      <th>6</th>\n",
       "      <td>0</td>\n",
       "      <td>76</td>\n",
       "      <td>5555</td>\n",
       "      <td>0</td>\n",
       "      <td>1</td>\n",
       "      <td>3</td>\n",
       "      <td>0</td>\n",
       "      <td>4039</td>\n",
       "      <td>17</td>\n",
       "      <td>0</td>\n",
       "      <td>0</td>\n",
       "      <td>990</td>\n",
       "      <td>15</td>\n",
       "    </tr>\n",
       "    <tr>\n",
       "      <th>7</th>\n",
       "      <td>0</td>\n",
       "      <td>76</td>\n",
       "      <td>5555</td>\n",
       "      <td>0</td>\n",
       "      <td>1</td>\n",
       "      <td>3</td>\n",
       "      <td>0</td>\n",
       "      <td>4558</td>\n",
       "      <td>17</td>\n",
       "      <td>0</td>\n",
       "      <td>0</td>\n",
       "      <td>990</td>\n",
       "      <td>15</td>\n",
       "    </tr>\n",
       "    <tr>\n",
       "      <th>8</th>\n",
       "      <td>0</td>\n",
       "      <td>76</td>\n",
       "      <td>5555</td>\n",
       "      <td>0</td>\n",
       "      <td>1</td>\n",
       "      <td>3</td>\n",
       "      <td>0</td>\n",
       "      <td>1562</td>\n",
       "      <td>17</td>\n",
       "      <td>0</td>\n",
       "      <td>0</td>\n",
       "      <td>990</td>\n",
       "      <td>15</td>\n",
       "    </tr>\n",
       "    <tr>\n",
       "      <th>9</th>\n",
       "      <td>0</td>\n",
       "      <td>76</td>\n",
       "      <td>5555</td>\n",
       "      <td>0</td>\n",
       "      <td>1</td>\n",
       "      <td>3</td>\n",
       "      <td>0</td>\n",
       "      <td>2030</td>\n",
       "      <td>17</td>\n",
       "      <td>0</td>\n",
       "      <td>0</td>\n",
       "      <td>990</td>\n",
       "      <td>15</td>\n",
       "    </tr>\n",
       "  </tbody>\n",
       "</table>\n",
       "</div>"
      ],
      "text/plain": [
       "   Tag  appName  destinationPort  destinationTCPFlagsDescription  direction  \\\n",
       "0    0       76             5555                               0          1   \n",
       "1    0       76             5555                               0          1   \n",
       "2    0       76             5555                               0          1   \n",
       "3    0       76             5555                               0          1   \n",
       "4    0       66               22                              17          2   \n",
       "5    0       66               22                               7          2   \n",
       "6    0       76             5555                               0          1   \n",
       "7    0       76             5555                               0          1   \n",
       "8    0       76             5555                               0          1   \n",
       "9    0       76             5555                               0          1   \n",
       "\n",
       "   protocolName  sourceFile  sourcePort  sourceTCPFlagsDescription  \\\n",
       "0             3           0        3870                         17   \n",
       "1             3           0        3934                         17   \n",
       "2             3           0        3967                         17   \n",
       "3             3           0        4000                         17   \n",
       "4             3           0       51693                         20   \n",
       "5             3           0       54053                         11   \n",
       "6             3           0        4039                         17   \n",
       "7             3           0        4558                         17   \n",
       "8             3           0        1562                         17   \n",
       "9             3           0        2030                         17   \n",
       "\n",
       "   totalDestinationBytes  totalDestinationPackets  totalSourceBytes  \\\n",
       "0                      0                        0               990   \n",
       "1                      0                        0               990   \n",
       "2                      0                        0               990   \n",
       "3                      0                        0               990   \n",
       "4                     66                        1               130   \n",
       "5                   2651                       14              1304   \n",
       "6                      0                        0               990   \n",
       "7                      0                        0               990   \n",
       "8                      0                        0               990   \n",
       "9                      0                        0               990   \n",
       "\n",
       "   totalSourcePackets  \n",
       "0                  15  \n",
       "1                  15  \n",
       "2                  15  \n",
       "3                  15  \n",
       "4                   2  \n",
       "5                  12  \n",
       "6                  15  \n",
       "7                  15  \n",
       "8                  15  \n",
       "9                  15  "
      ]
     },
     "execution_count": 17,
     "metadata": {},
     "output_type": "execute_result"
    }
   ],
   "source": [
    "le = LabelEncoder()\n",
    "\n",
    "for col in transformed_data.columns:\n",
    "    if transformed_data[col].dtype == 'object':\n",
    "        transformed_data[col] = le.fit_transform(transformed_data[col].values)\n",
    "        \n",
    "transformed_data.head(10)"
   ]
  },
  {
   "cell_type": "code",
   "execution_count": 24,
   "id": "3116071e",
   "metadata": {
    "slideshow": {
     "slide_type": "-"
    }
   },
   "outputs": [
    {
     "data": {
      "text/plain": [
       "19    64454\n",
       "18    24796\n",
       "76    14989\n",
       "8     10930\n",
       "66     7498\n",
       "      ...  \n",
       "49        1\n",
       "91        1\n",
       "90        1\n",
       "16        1\n",
       "51        1\n",
       "Name: appName, Length: 95, dtype: int64"
      ]
     },
     "execution_count": 24,
     "metadata": {},
     "output_type": "execute_result"
    }
   ],
   "source": [
    "transformed_data[\"appName\"].value_counts()"
   ]
  },
  {
   "cell_type": "code",
   "execution_count": 25,
   "id": "ae76b686",
   "metadata": {},
   "outputs": [
    {
     "data": {
      "text/html": [
       "<div>\n",
       "<style scoped>\n",
       "    .dataframe tbody tr th:only-of-type {\n",
       "        vertical-align: middle;\n",
       "    }\n",
       "\n",
       "    .dataframe tbody tr th {\n",
       "        vertical-align: top;\n",
       "    }\n",
       "\n",
       "    .dataframe thead th {\n",
       "        text-align: right;\n",
       "    }\n",
       "</style>\n",
       "<table border=\"1\" class=\"dataframe\">\n",
       "  <thead>\n",
       "    <tr style=\"text-align: right;\">\n",
       "      <th></th>\n",
       "      <th>Tag</th>\n",
       "      <th>appName</th>\n",
       "      <th>destinationPort</th>\n",
       "      <th>destinationTCPFlagsDescription</th>\n",
       "      <th>direction</th>\n",
       "      <th>protocolName</th>\n",
       "      <th>sourceFile</th>\n",
       "      <th>sourcePort</th>\n",
       "      <th>sourceTCPFlagsDescription</th>\n",
       "      <th>totalDestinationBytes</th>\n",
       "      <th>totalDestinationPackets</th>\n",
       "      <th>totalSourceBytes</th>\n",
       "      <th>totalSourcePackets</th>\n",
       "    </tr>\n",
       "  </thead>\n",
       "  <tbody>\n",
       "    <tr>\n",
       "      <th>0</th>\n",
       "      <td>0</td>\n",
       "      <td>76</td>\n",
       "      <td>5555</td>\n",
       "      <td>0</td>\n",
       "      <td>1</td>\n",
       "      <td>3</td>\n",
       "      <td>0</td>\n",
       "      <td>3870</td>\n",
       "      <td>17</td>\n",
       "      <td>0</td>\n",
       "      <td>0</td>\n",
       "      <td>990</td>\n",
       "      <td>15</td>\n",
       "    </tr>\n",
       "    <tr>\n",
       "      <th>1</th>\n",
       "      <td>0</td>\n",
       "      <td>76</td>\n",
       "      <td>5555</td>\n",
       "      <td>0</td>\n",
       "      <td>1</td>\n",
       "      <td>3</td>\n",
       "      <td>0</td>\n",
       "      <td>3934</td>\n",
       "      <td>17</td>\n",
       "      <td>0</td>\n",
       "      <td>0</td>\n",
       "      <td>990</td>\n",
       "      <td>15</td>\n",
       "    </tr>\n",
       "    <tr>\n",
       "      <th>2</th>\n",
       "      <td>0</td>\n",
       "      <td>76</td>\n",
       "      <td>5555</td>\n",
       "      <td>0</td>\n",
       "      <td>1</td>\n",
       "      <td>3</td>\n",
       "      <td>0</td>\n",
       "      <td>3967</td>\n",
       "      <td>17</td>\n",
       "      <td>0</td>\n",
       "      <td>0</td>\n",
       "      <td>990</td>\n",
       "      <td>15</td>\n",
       "    </tr>\n",
       "    <tr>\n",
       "      <th>3</th>\n",
       "      <td>0</td>\n",
       "      <td>76</td>\n",
       "      <td>5555</td>\n",
       "      <td>0</td>\n",
       "      <td>1</td>\n",
       "      <td>3</td>\n",
       "      <td>0</td>\n",
       "      <td>4000</td>\n",
       "      <td>17</td>\n",
       "      <td>0</td>\n",
       "      <td>0</td>\n",
       "      <td>990</td>\n",
       "      <td>15</td>\n",
       "    </tr>\n",
       "    <tr>\n",
       "      <th>4</th>\n",
       "      <td>0</td>\n",
       "      <td>66</td>\n",
       "      <td>22</td>\n",
       "      <td>17</td>\n",
       "      <td>2</td>\n",
       "      <td>3</td>\n",
       "      <td>0</td>\n",
       "      <td>51693</td>\n",
       "      <td>20</td>\n",
       "      <td>66</td>\n",
       "      <td>1</td>\n",
       "      <td>130</td>\n",
       "      <td>2</td>\n",
       "    </tr>\n",
       "  </tbody>\n",
       "</table>\n",
       "</div>"
      ],
      "text/plain": [
       "   Tag  appName  destinationPort  destinationTCPFlagsDescription  direction  \\\n",
       "0    0       76             5555                               0          1   \n",
       "1    0       76             5555                               0          1   \n",
       "2    0       76             5555                               0          1   \n",
       "3    0       76             5555                               0          1   \n",
       "4    0       66               22                              17          2   \n",
       "\n",
       "   protocolName  sourceFile  sourcePort  sourceTCPFlagsDescription  \\\n",
       "0             3           0        3870                         17   \n",
       "1             3           0        3934                         17   \n",
       "2             3           0        3967                         17   \n",
       "3             3           0        4000                         17   \n",
       "4             3           0       51693                         20   \n",
       "\n",
       "   totalDestinationBytes  totalDestinationPackets  totalSourceBytes  \\\n",
       "0                      0                        0               990   \n",
       "1                      0                        0               990   \n",
       "2                      0                        0               990   \n",
       "3                      0                        0               990   \n",
       "4                     66                        1               130   \n",
       "\n",
       "   totalSourcePackets  \n",
       "0                  15  \n",
       "1                  15  \n",
       "2                  15  \n",
       "3                  15  \n",
       "4                   2  "
      ]
     },
     "execution_count": 25,
     "metadata": {},
     "output_type": "execute_result"
    }
   ],
   "source": [
    "transformed_data.head()"
   ]
  },
  {
   "cell_type": "code",
   "execution_count": 44,
   "id": "fe052baa",
   "metadata": {},
   "outputs": [],
   "source": [
    "# x = cleaned_data.drop(['Tag'], axis=1).copy()\n",
    "x = transformed_data.drop(['Tag', 'sourceFile', 'destinationTCPFlagsDescription', \n",
    "                      'sourceTCPFlagsDescription', 'totalDestinationBytes', \n",
    "                      'totalDestinationPackets', 'totalSourceBytes', \n",
    "                      'totalSourcePackets', 'sourcePort', 'destinationPort'], axis=1).copy()\n",
    "y = transformed_data[\"Tag\"]"
   ]
  },
  {
   "attachments": {
    "direction123.png": {
     "image/png": "[encoded data removed]"
    }
   },
   "cell_type": "markdown",
   "id": "86da1544",
   "metadata": {},
   "source": [
    "![direction123.png](attachment:direction123.png)"
   ]
  },
  {
   "cell_type": "markdown",
   "id": "1dc9277c",
   "metadata": {},
   "source": [
    "# Direction:\n",
    "- L2L \n",
    "- L2R\n",
    "- R2L\n",
    "- R2R"
   ]
  },
  {
   "cell_type": "code",
   "execution_count": 50,
   "id": "94858f3f",
   "metadata": {
    "scrolled": true
   },
   "outputs": [
    {
     "name": "stdout",
     "output_type": "stream",
     "text": [
      "(137820, 3)\n",
      "(137820,)\n"
     ]
    }
   ],
   "source": [
    "print(x.shape)\n",
    "print(y.shape)"
   ]
  },
  {
   "cell_type": "code",
   "execution_count": 51,
   "id": "85b6e196",
   "metadata": {},
   "outputs": [
    {
     "data": {
      "text/plain": [
       "0    68910\n",
       "1    68910\n",
       "Name: Tag, dtype: int64"
      ]
     },
     "execution_count": 51,
     "metadata": {},
     "output_type": "execute_result"
    }
   ],
   "source": [
    "y.value_counts()"
   ]
  },
  {
   "cell_type": "code",
   "execution_count": 52,
   "id": "84c10a4a",
   "metadata": {},
   "outputs": [
    {
     "data": {
      "text/html": [
       "<div>\n",
       "<style scoped>\n",
       "    .dataframe tbody tr th:only-of-type {\n",
       "        vertical-align: middle;\n",
       "    }\n",
       "\n",
       "    .dataframe tbody tr th {\n",
       "        vertical-align: top;\n",
       "    }\n",
       "\n",
       "    .dataframe thead th {\n",
       "        text-align: right;\n",
       "    }\n",
       "</style>\n",
       "<table border=\"1\" class=\"dataframe\">\n",
       "  <thead>\n",
       "    <tr style=\"text-align: right;\">\n",
       "      <th></th>\n",
       "      <th>appName</th>\n",
       "      <th>direction</th>\n",
       "      <th>protocolName</th>\n",
       "    </tr>\n",
       "  </thead>\n",
       "  <tbody>\n",
       "    <tr>\n",
       "      <th>0</th>\n",
       "      <td>76</td>\n",
       "      <td>1</td>\n",
       "      <td>3</td>\n",
       "    </tr>\n",
       "    <tr>\n",
       "      <th>1</th>\n",
       "      <td>76</td>\n",
       "      <td>1</td>\n",
       "      <td>3</td>\n",
       "    </tr>\n",
       "    <tr>\n",
       "      <th>2</th>\n",
       "      <td>76</td>\n",
       "      <td>1</td>\n",
       "      <td>3</td>\n",
       "    </tr>\n",
       "    <tr>\n",
       "      <th>3</th>\n",
       "      <td>76</td>\n",
       "      <td>1</td>\n",
       "      <td>3</td>\n",
       "    </tr>\n",
       "    <tr>\n",
       "      <th>4</th>\n",
       "      <td>66</td>\n",
       "      <td>2</td>\n",
       "      <td>3</td>\n",
       "    </tr>\n",
       "  </tbody>\n",
       "</table>\n",
       "</div>"
      ],
      "text/plain": [
       "   appName  direction  protocolName\n",
       "0       76          1             3\n",
       "1       76          1             3\n",
       "2       76          1             3\n",
       "3       76          1             3\n",
       "4       66          2             3"
      ]
     },
     "execution_count": 52,
     "metadata": {},
     "output_type": "execute_result"
    }
   ],
   "source": [
    "x.head()"
   ]
  },
  {
   "cell_type": "code",
   "execution_count": 53,
   "id": "1b67d5d6",
   "metadata": {},
   "outputs": [
    {
     "name": "stdout",
     "output_type": "stream",
     "text": [
      "(110256, 3)\n",
      "(110256,)\n",
      "(27564, 3)\n",
      "(27564,)\n"
     ]
    }
   ],
   "source": [
    "X_train, X_test, y_train, y_test = train_test_split(x, y, test_size=0.20,  random_state=42)\n",
    "print(X_train.shape)\n",
    "print(y_train.shape)\n",
    "print(X_test.shape)\n",
    "print(y_test.shape)"
   ]
  },
  {
   "cell_type": "markdown",
   "id": "43584b30",
   "metadata": {},
   "source": [
    "# Decision Tree Classification"
   ]
  },
  {
   "cell_type": "code",
   "execution_count": 54,
   "id": "20379aa9",
   "metadata": {},
   "outputs": [
    {
     "name": "stdout",
     "output_type": "stream",
     "text": [
      "[0.98358426 0.98367495 0.9845819  0.98376564 0.98494468 0.98294939\n",
      " 0.98312925 0.9815873  0.9847619  0.98258503]\n"
     ]
    },
    {
     "data": {
      "text/plain": [
       "0.9835564308315986"
      ]
     },
     "execution_count": 54,
     "metadata": {},
     "output_type": "execute_result"
    }
   ],
   "source": [
    "clf = DecisionTreeClassifier(random_state=0)\n",
    "score = cross_val_score(clf, X_train, y_train, cv=10)\n",
    "print(score)\n",
    "score.mean()"
   ]
  },
  {
   "cell_type": "code",
   "execution_count": 56,
   "id": "d0a9c85e",
   "metadata": {},
   "outputs": [],
   "source": [
    "clf = clf.fit(X_train, y_train)\n",
    "clf_pred = clf.predict(X_test)"
   ]
  },
  {
   "cell_type": "code",
   "execution_count": 59,
   "id": "f398c9d9",
   "metadata": {},
   "outputs": [
    {
     "data": {
      "text/plain": [
       "array([[13607,   227],\n",
       "       [  249, 13481]], dtype=int64)"
      ]
     },
     "execution_count": 59,
     "metadata": {},
     "output_type": "execute_result"
    }
   ],
   "source": [
    "# TP  FP\n",
    "# FN  TN\n",
    "confusion_matrix(y_test, clf_pred)"
   ]
  },
  {
   "cell_type": "code",
   "execution_count": 70,
   "id": "e8ac2cba",
   "metadata": {
    "scrolled": false
   },
   "outputs": [
    {
     "name": "stdout",
     "output_type": "stream",
     "text": [
      "              precision    recall  f1-score   support\n",
      "\n",
      "           0       0.98      0.98      0.98     13834\n",
      "           1       0.98      0.98      0.98     13730\n",
      "\n",
      "    accuracy                           0.98     27564\n",
      "   macro avg       0.98      0.98      0.98     27564\n",
      "weighted avg       0.98      0.98      0.98     27564\n",
      "\n"
     ]
    }
   ],
   "source": [
    "print(classification_report(y_test, clf_pred))"
   ]
  },
  {
   "cell_type": "code",
   "execution_count": 61,
   "id": "558fc859",
   "metadata": {},
   "outputs": [
    {
     "name": "stdout",
     "output_type": "stream",
     "text": [
      "0.9827310985343202\n"
     ]
    }
   ],
   "source": [
    "print(accuracy_score(clf_pred, y_test))"
   ]
  },
  {
   "cell_type": "markdown",
   "id": "a598af8c",
   "metadata": {},
   "source": [
    "# Random Forest Classifier "
   ]
  },
  {
   "cell_type": "code",
   "execution_count": 71,
   "id": "e54f70d9",
   "metadata": {},
   "outputs": [
    {
     "name": "stdout",
     "output_type": "stream",
     "text": [
      "[0.98358426 0.98367495 0.9845819  0.98376564 0.98494468 0.98304009\n",
      " 0.98312925 0.9815873  0.9847619  0.98258503]\n"
     ]
    },
    {
     "data": {
      "text/plain": [
       "0.9835655003037553"
      ]
     },
     "execution_count": 71,
     "metadata": {},
     "output_type": "execute_result"
    }
   ],
   "source": [
    "rf = RandomForestClassifier(random_state=0)\n",
    "score = cross_val_score(rf, X_train, y_train, cv=10)\n",
    "print(score)\n",
    "score.mean()"
   ]
  },
  {
   "cell_type": "code",
   "execution_count": 72,
   "id": "5153176c",
   "metadata": {},
   "outputs": [],
   "source": [
    "rf.fit(X_train, y_train)\n",
    "rf_pred = rf.predict(X_test)"
   ]
  },
  {
   "cell_type": "code",
   "execution_count": 68,
   "id": "de1b1ef0",
   "metadata": {},
   "outputs": [
    {
     "data": {
      "text/plain": [
       "array([[13607,   227],\n",
       "       [  250, 13480]], dtype=int64)"
      ]
     },
     "execution_count": 68,
     "metadata": {},
     "output_type": "execute_result"
    }
   ],
   "source": [
    "# TP  FP\n",
    "# FN  TN\n",
    "confusion_matrix(y_test, rf_pred)"
   ]
  },
  {
   "cell_type": "code",
   "execution_count": 69,
   "id": "3851a854",
   "metadata": {},
   "outputs": [
    {
     "name": "stdout",
     "output_type": "stream",
     "text": [
      "              precision    recall  f1-score   support\n",
      "\n",
      "           0       0.98      0.98      0.98     13834\n",
      "           1       0.98      0.98      0.98     13730\n",
      "\n",
      "    accuracy                           0.98     27564\n",
      "   macro avg       0.98      0.98      0.98     27564\n",
      "weighted avg       0.98      0.98      0.98     27564\n",
      "\n"
     ]
    }
   ],
   "source": [
    "print(classification_report(y_test, rf_pred))"
   ]
  },
  {
   "cell_type": "code",
   "execution_count": 40,
   "id": "74a541a1",
   "metadata": {},
   "outputs": [
    {
     "data": {
      "text/plain": [
       "0.9817152808010449"
      ]
     },
     "execution_count": 40,
     "metadata": {},
     "output_type": "execute_result"
    }
   ],
   "source": [
    "accuracy_score(y_test, y_pred)"
   ]
  },
  {
   "cell_type": "markdown",
   "id": "cb69ea16",
   "metadata": {},
   "source": [
    "# Challenge 2"
   ]
  },
  {
   "cell_type": "code",
   "execution_count": 76,
   "id": "ac3f49e1",
   "metadata": {},
   "outputs": [],
   "source": [
    "x2 = transformed_data.drop(['appName'], axis=1).copy()\n",
    "y2 = transformed_data['appName']"
   ]
  },
  {
   "cell_type": "code",
   "execution_count": 78,
   "id": "faef88a3",
   "metadata": {},
   "outputs": [],
   "source": [
    "X2_train, X2_test, y2_train, y2_test = train_test_split(x2, y2, test_size =0.20, random_state=42)"
   ]
  },
  {
   "cell_type": "markdown",
   "id": "b6aa0532",
   "metadata": {},
   "source": [
    "# Decision Tree Classifier"
   ]
  },
  {
   "cell_type": "code",
   "execution_count": 79,
   "id": "59ae07be",
   "metadata": {},
   "outputs": [
    {
     "data": {
      "text/plain": [
       "DecisionTreeClassifier()"
      ]
     },
     "execution_count": 79,
     "metadata": {},
     "output_type": "execute_result"
    }
   ],
   "source": [
    "clf2 = DecisionTreeClassifier() \n",
    "clf2.fit(X2_train, y2_train)"
   ]
  },
  {
   "cell_type": "code",
   "execution_count": 80,
   "id": "24a4510c",
   "metadata": {},
   "outputs": [],
   "source": [
    "pred_clf2 = clf2.predict(X2_test)"
   ]
  },
  {
   "cell_type": "code",
   "execution_count": 87,
   "id": "2a09a53b",
   "metadata": {},
   "outputs": [
    {
     "name": "stdout",
     "output_type": "stream",
     "text": [
      "0.9074154694529096\n"
     ]
    }
   ],
   "source": [
    "print(accuracy_score(y2_test, pred_clf2))"
   ]
  },
  {
   "cell_type": "markdown",
   "id": "2ca39fd2",
   "metadata": {},
   "source": [
    "# Random Forest Classifier"
   ]
  },
  {
   "cell_type": "code",
   "execution_count": 88,
   "id": "3179eae0",
   "metadata": {},
   "outputs": [
    {
     "data": {
      "text/plain": [
       "RandomForestClassifier()"
      ]
     },
     "execution_count": 88,
     "metadata": {},
     "output_type": "execute_result"
    }
   ],
   "source": [
    "rf2 = RandomForestClassifier()\n",
    "rf2.fit(X2_train, y2_train)"
   ]
  },
  {
   "cell_type": "code",
   "execution_count": 89,
   "id": "3bcb5821",
   "metadata": {},
   "outputs": [],
   "source": [
    "pred_rf2 = rf2.predict(X2_test)"
   ]
  },
  {
   "cell_type": "code",
   "execution_count": 90,
   "id": "20238f91",
   "metadata": {},
   "outputs": [
    {
     "name": "stdout",
     "output_type": "stream",
     "text": [
      "0.9210927296473661\n"
     ]
    }
   ],
   "source": [
    "print(accuracy_score(y2_test, pred_rf2))"
   ]
  }
 ],
 "metadata": {
  "celltoolbar": "Slideshow",
  "kernelspec": {
   "display_name": "Python 3 (ipykernel)",
   "language": "python",
   "name": "python3"
  },
  "language_info": {
   "codemirror_mode": {
    "name": "ipython",
    "version": 3
   },
   "file_extension": ".py",
   "mimetype": "text/x-python",
   "name": "python",
   "nbconvert_exporter": "python",
   "pygments_lexer": "ipython3",
   "version": "3.9.7"
  }
 },
 "nbformat": 4,
 "nbformat_minor": 5
}
